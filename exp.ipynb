{
 "cells": [
  {
   "cell_type": "code",
   "execution_count": 37,
   "id": "418a0b6a",
   "metadata": {},
   "outputs": [],
   "source": [
    "from pprint import pprint\n",
    "import re\n",
    "import pandas as pd"
   ]
  },
  {
   "cell_type": "code",
   "execution_count": 38,
   "id": "ac711b79",
   "metadata": {},
   "outputs": [
    {
     "name": "stdout",
     "output_type": "stream",
     "text": [
      "['83.149.9.216 - - [17/May/2015:10:05:03 +0000] \"GET '\n",
      " '/presentations/logstash-monitorama-2013/images/kibana-search.png HTTP/1.1\" '\n",
      " '200 203023 \"http://semicomplete.com/presentations/logstash-monitorama-2013/\" '\n",
      " '\"Mozilla/5.0 (Macintosh; Intel Mac OS X 10_9_1) AppleWebKit/537.36 (KHTML, '\n",
      " 'like Gecko) Chrome/32.0.1700.77 Safari/537.36\"',\n",
      " '83.149.9.216 - - [17/May/2015:10:05:43 +0000] \"GET '\n",
      " '/presentations/logstash-monitorama-2013/images/kibana-dashboard3.png '\n",
      " 'HTTP/1.1\" 200 171717 '\n",
      " '\"http://semicomplete.com/presentations/logstash-monitorama-2013/\" '\n",
      " '\"Mozilla/5.0 (Macintosh; Intel Mac OS X 10_9_1) AppleWebKit/537.36 (KHTML, '\n",
      " 'like Gecko) Chrome/32.0.1700.77 Safari/537.36\"',\n",
      " '83.149.9.216 - - [17/May/2015:10:05:47 +0000] \"GET '\n",
      " '/presentations/logstash-monitorama-2013/plugin/highlight/highlight.js '\n",
      " 'HTTP/1.1\" 200 26185 '\n",
      " '\"http://semicomplete.com/presentations/logstash-monitorama-2013/\" '\n",
      " '\"Mozilla/5.0 (Macintosh; Intel Mac OS X 10_9_1) AppleWebKit/537.36 (KHTML, '\n",
      " 'like Gecko) Chrome/32.0.1700.77 Safari/537.36\"',\n",
      " '83.149.9.216 - - [17/May/2015:10:05:12 +0000] \"GET '\n",
      " '/presentations/logstash-monitorama-2013/plugin/zoom-js/zoom.js HTTP/1.1\" 200 '\n",
      " '7697 \"http://semicomplete.com/presentations/logstash-monitorama-2013/\" '\n",
      " '\"Mozilla/5.0 (Macintosh; Intel Mac OS X 10_9_1) AppleWebKit/537.36 (KHTML, '\n",
      " 'like Gecko) Chrome/32.0.1700.77 Safari/537.36\"',\n",
      " '83.149.9.216 - - [17/May/2015:10:05:07 +0000] \"GET '\n",
      " '/presentations/logstash-monitorama-2013/plugin/notes/notes.js HTTP/1.1\" 200 '\n",
      " '2892 \"http://semicomplete.com/presentations/logstash-monitorama-2013/\" '\n",
      " '\"Mozilla/5.0 (Macintosh; Intel Mac OS X 10_9_1) AppleWebKit/537.36 (KHTML, '\n",
      " 'like Gecko) Chrome/32.0.1700.77 Safari/537.36\"',\n",
      " '83.149.9.216 - - [17/May/2015:10:05:34 +0000] \"GET '\n",
      " '/presentations/logstash-monitorama-2013/images/sad-medic.png HTTP/1.1\" 200 '\n",
      " '430406 \"http://semicomplete.com/presentations/logstash-monitorama-2013/\" '\n",
      " '\"Mozilla/5.0 (Macintosh; Intel Mac OS X 10_9_1) AppleWebKit/537.36 (KHTML, '\n",
      " 'like Gecko) Chrome/32.0.1700.77 Safari/537.36\"',\n",
      " '83.149.9.216 - - [17/May/2015:10:05:57 +0000] \"GET '\n",
      " '/presentations/logstash-monitorama-2013/css/fonts/Roboto-Bold.ttf HTTP/1.1\" '\n",
      " '200 38720 \"http://semicomplete.com/presentations/logstash-monitorama-2013/\" '\n",
      " '\"Mozilla/5.0 (Macintosh; Intel Mac OS X 10_9_1) AppleWebKit/537.36 (KHTML, '\n",
      " 'like Gecko) Chrome/32.0.1700.77 Safari/537.36\"',\n",
      " '83.149.9.216 - - [17/May/2015:10:05:50 +0000] \"GET '\n",
      " '/presentations/logstash-monitorama-2013/css/fonts/Roboto-Regular.ttf '\n",
      " 'HTTP/1.1\" 200 41820 '\n",
      " '\"http://semicomplete.com/presentations/logstash-monitorama-2013/\" '\n",
      " '\"Mozilla/5.0 (Macintosh; Intel Mac OS X 10_9_1) AppleWebKit/537.36 (KHTML, '\n",
      " 'like Gecko) Chrome/32.0.1700.77 Safari/537.36\"',\n",
      " '83.149.9.216 - - [17/May/2015:10:05:24 +0000] \"GET '\n",
      " '/presentations/logstash-monitorama-2013/images/frontend-response-codes.png '\n",
      " 'HTTP/1.1\" 200 52878 '\n",
      " '\"http://semicomplete.com/presentations/logstash-monitorama-2013/\" '\n",
      " '\"Mozilla/5.0 (Macintosh; Intel Mac OS X 10_9_1) AppleWebKit/537.36 (KHTML, '\n",
      " 'like Gecko) Chrome/32.0.1700.77 Safari/537.36\"',\n",
      " '83.149.9.216 - - [17/May/2015:10:05:50 +0000] \"GET '\n",
      " '/presentations/logstash-monitorama-2013/images/kibana-dashboard.png '\n",
      " 'HTTP/1.1\" 200 321631 '\n",
      " '\"http://semicomplete.com/presentations/logstash-monitorama-2013/\" '\n",
      " '\"Mozilla/5.0 (Macintosh; Intel Mac OS X 10_9_1) AppleWebKit/537.36 (KHTML, '\n",
      " 'like Gecko) Chrome/32.0.1700.77 Safari/537.36\"']\n"
     ]
    }
   ],
   "source": [
    "\n",
    "\n",
    "# Open Function\n",
    "with open('apache_logs.txt', 'r') as file:\n",
    "    content = file.read()\n",
    "    lines = content.splitlines()\n",
    "pprint (lines[0:10])  # Print first 10 lines for verification\n",
    "    "
   ]
  }
 ],
 "metadata": {
  "kernelspec": {
   "display_name": "Python 3",
   "language": "python",
   "name": "python3"
  },
  "language_info": {
   "codemirror_mode": {
    "name": "ipython",
    "version": 3
   },
   "file_extension": ".py",
   "mimetype": "text/x-python",
   "name": "python",
   "nbconvert_exporter": "python",
   "pygments_lexer": "ipython3",
   "version": "3.13.3"
  }
 },
 "nbformat": 4,
 "nbformat_minor": 5
}
